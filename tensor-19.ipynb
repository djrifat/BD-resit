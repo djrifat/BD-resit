{
 "cells": [
  {
   "cell_type": "code",
   "execution_count": 1,
   "metadata": {},
   "outputs": [],
   "source": [
    "# Imports\n",
    "from tensorflow.keras.preprocessing.image import ImageDataGenerator\n",
    "from tensorflow.keras.applications import VGG16\n",
    "from tensorflow.keras.layers import AveragePooling2D\n",
    "from tensorflow.keras.layers import Dropout\n",
    "from tensorflow.keras.layers import Flatten\n",
    "from tensorflow.keras.layers import Dense\n",
    "from tensorflow.keras.layers import Input\n",
    "from tensorflow.keras.models import Model\n",
    "from tensorflow.keras.optimizers import Adam\n",
    "from tensorflow.keras.utils import to_categorical\n",
    "from sklearn.preprocessing import LabelBinarizer\n",
    "from sklearn.model_selection import train_test_split\n",
    "from sklearn.metrics import classification_report\n",
    "from sklearn.metrics import confusion_matrix\n",
    "from imutils import paths\n",
    "import matplotlib.pyplot as plt\n",
    "import numpy as np\n",
    "import argparse\n",
    "import cv2\n",
    "import os"
   ]
  },
  {
   "cell_type": "code",
   "execution_count": 2,
   "metadata": {},
   "outputs": [],
   "source": [
    "# Set NN hyperparameters\n",
    "INIT_LR = 1e-3\n",
    "EPOCHS = 25\n",
    "BATCH_SIZE = 8\n",
    "\n",
    "# Set directory path\n",
    "image_dir = 'data'"
   ]
  },
  {
   "cell_type": "code",
   "execution_count": 3,
   "metadata": {},
   "outputs": [
    {
     "name": "stdout",
     "output_type": "stream",
     "text": [
      "[INFO] Loading images...\n"
     ]
    }
   ],
   "source": [
    "# Grab images from directory and initialize list of data\n",
    "print(\"[INFO] Loading images...\")\n",
    "image_paths = list(paths.list_images(image_dir))\n",
    "data = []\n",
    "labels = []\n",
    "\n",
    "# Loop over images\n",
    "for image_path in image_paths:\n",
    "    \n",
    "    # Extract class labels\n",
    "    label = image_path.split(os.path.sep)[-2]\n",
    "    \n",
    "    # Load image and swap colors and resize for NN network\n",
    "    image = cv2.imread(image_path)\n",
    "    image = cv2.cvtColor(image, cv2.COLOR_BGR2RGB)\n",
    "    image = cv2.resize(image, (224, 224))\n",
    "    \n",
    "    # Update data and label list\n",
    "    data.append(image)\n",
    "    labels.append(label)\n",
    "    \n",
    "# Convert data and labels to numpy array\n",
    "# Scale pixel intensity range 0-1\n",
    "data = np.array(data) / 255.0\n",
    "labels = np.array(labels)"
   ]
  },
  {
   "cell_type": "code",
   "execution_count": 4,
   "metadata": {},
   "outputs": [],
   "source": [
    "# One Hot encoding\n",
    "lb = LabelBinarizer()\n",
    "labels = lb.fit_transform(labels)\n",
    "labels = to_categorical(labels)"
   ]
  },
  {
   "cell_type": "code",
   "execution_count": 5,
   "metadata": {},
   "outputs": [],
   "source": [
    "# Partition training data (80-20 ratio)\n",
    "(train_x, test_x, train_y, test_y) = train_test_split(data, labels, \n",
    "                                                      test_size=0.20, stratify=labels, random_state=43)"
   ]
  },
  {
   "cell_type": "code",
   "execution_count": 6,
   "metadata": {},
   "outputs": [],
   "source": [
    "# Initialize data augmentation object\n",
    "training_aug = ImageDataGenerator(rotation_range=15,\n",
    "                                 fill_mode=\"nearest\")"
   ]
  },
  {
   "cell_type": "code",
   "execution_count": 7,
   "metadata": {},
   "outputs": [],
   "source": [
    "# Load VGG16 model, leaving FC layers off\n",
    "base_model = VGG16(weights=\"imagenet\", include_top=False, \n",
    "                   input_tensor=Input(shape=(224,224,3)))\n",
    "\n",
    "# Construct model that will be placed on top of the base model\n",
    "head_model = base_model.output\n",
    "head_model = AveragePooling2D(pool_size=(4,4))(head_model)\n",
    "head_model = Flatten(name=\"flatten\")(head_model)\n",
    "head_model = Dense(64, activation=\"relu\")(head_model)\n",
    "head_model = Dropout(0.5)(head_model)\n",
    "head_model = Dense(2, activation=\"softmax\")(head_model)\n",
    "\n",
    "# Add model on top of base model\n",
    "model = Model(inputs=base_model.input, outputs=head_model)\n",
    "\n",
    "# Loop over base model layers and freeze them\n",
    "# This ensures layers will not be updated\n",
    "for layer in base_model.layers:\n",
    "    layer.trainable = False"
   ]
  },
  {
   "cell_type": "code",
   "execution_count": 8,
   "metadata": {},
   "outputs": [
    {
     "name": "stdout",
     "output_type": "stream",
     "text": [
      "[INFO] Compiling model...\n",
      "[INFO] training head...\n",
      "Epoch 1/25\n",
      "5/5 [==============================] - 68s 14s/step - loss: 0.8229 - accuracy: 0.6250 - val_loss: 0.6334 - val_accuracy: 0.6000\n",
      "Epoch 2/25\n",
      "5/5 [==============================] - 61s 12s/step - loss: 0.7979 - accuracy: 0.4750 - val_loss: 0.6841 - val_accuracy: 0.5000\n",
      "Epoch 3/25\n",
      "5/5 [==============================] - 68s 14s/step - loss: 0.9767 - accuracy: 0.3750 - val_loss: 0.6209 - val_accuracy: 0.5000\n",
      "Epoch 4/25\n",
      "5/5 [==============================] - 64s 13s/step - loss: 0.6577 - accuracy: 0.6250 - val_loss: 0.5586 - val_accuracy: 0.9000\n",
      "Epoch 5/25\n",
      "5/5 [==============================] - 66s 13s/step - loss: 0.7240 - accuracy: 0.5500 - val_loss: 0.5383 - val_accuracy: 0.7000\n",
      "Epoch 6/25\n",
      "5/5 [==============================] - 62s 12s/step - loss: 0.7122 - accuracy: 0.5250 - val_loss: 0.5159 - val_accuracy: 0.8000\n",
      "Epoch 7/25\n",
      "5/5 [==============================] - 61s 12s/step - loss: 0.5975 - accuracy: 0.7250 - val_loss: 0.5168 - val_accuracy: 0.9000\n",
      "Epoch 8/25\n",
      "5/5 [==============================] - 65s 13s/step - loss: 0.5948 - accuracy: 0.7500 - val_loss: 0.5082 - val_accuracy: 0.9000\n",
      "Epoch 9/25\n",
      "5/5 [==============================] - 64s 13s/step - loss: 0.4827 - accuracy: 0.7500 - val_loss: 0.4874 - val_accuracy: 0.8000\n",
      "Epoch 10/25\n",
      "5/5 [==============================] - 68s 14s/step - loss: 0.4561 - accuracy: 0.8750 - val_loss: 0.4752 - val_accuracy: 0.9000\n",
      "Epoch 11/25\n",
      "5/5 [==============================] - 65s 13s/step - loss: 0.4887 - accuracy: 0.8000 - val_loss: 0.4593 - val_accuracy: 0.8000\n",
      "Epoch 12/25\n",
      "5/5 [==============================] - 64s 13s/step - loss: 0.4167 - accuracy: 0.9000 - val_loss: 0.4552 - val_accuracy: 0.8000\n",
      "Epoch 13/25\n",
      "5/5 [==============================] - 64s 13s/step - loss: 0.4905 - accuracy: 0.7500 - val_loss: 0.4436 - val_accuracy: 0.8000\n",
      "Epoch 14/25\n",
      "5/5 [==============================] - 71s 14s/step - loss: 0.4273 - accuracy: 0.9000 - val_loss: 0.4225 - val_accuracy: 0.9000\n",
      "Epoch 15/25\n",
      "5/5 [==============================] - 63s 13s/step - loss: 0.3874 - accuracy: 0.8500 - val_loss: 0.4084 - val_accuracy: 0.9000\n",
      "Epoch 16/25\n",
      "5/5 [==============================] - 69s 14s/step - loss: 0.4107 - accuracy: 0.8250 - val_loss: 0.4022 - val_accuracy: 0.9000\n",
      "Epoch 17/25\n",
      "5/5 [==============================] - 61s 12s/step - loss: 0.4049 - accuracy: 0.8500 - val_loss: 0.4067 - val_accuracy: 0.8000\n",
      "Epoch 18/25\n",
      "5/5 [==============================] - 61s 12s/step - loss: 0.3372 - accuracy: 0.9250 - val_loss: 0.4007 - val_accuracy: 0.8000\n",
      "Epoch 19/25\n",
      "5/5 [==============================] - 61s 12s/step - loss: 0.3721 - accuracy: 0.8750 - val_loss: 0.3779 - val_accuracy: 0.9000\n",
      "Epoch 20/25\n",
      "5/5 [==============================] - 61s 12s/step - loss: 0.3767 - accuracy: 0.8500 - val_loss: 0.3698 - val_accuracy: 0.9000\n",
      "Epoch 21/25\n",
      "5/5 [==============================] - 62s 12s/step - loss: 0.3177 - accuracy: 0.9000 - val_loss: 0.3570 - val_accuracy: 0.9000\n",
      "Epoch 22/25\n",
      "5/5 [==============================] - 61s 12s/step - loss: 0.3561 - accuracy: 0.8750 - val_loss: 0.3584 - val_accuracy: 0.9000\n",
      "Epoch 23/25\n",
      "5/5 [==============================] - 62s 12s/step - loss: 0.3174 - accuracy: 0.9250 - val_loss: 0.3579 - val_accuracy: 0.9000\n",
      "Epoch 24/25\n",
      "5/5 [==============================] - 61s 12s/step - loss: 0.3569 - accuracy: 0.8750 - val_loss: 0.3590 - val_accuracy: 0.8000\n",
      "Epoch 25/25\n",
      "5/5 [==============================] - 61s 12s/step - loss: 0.2936 - accuracy: 0.9250 - val_loss: 0.3516 - val_accuracy: 0.9000\n"
     ]
    }
   ],
   "source": [
    "# Compile model\n",
    "print(\"[INFO] Compiling model...\")\n",
    "opt = Adam(lr=INIT_LR, decay=INIT_LR/EPOCHS)\n",
    "model.compile(loss=\"binary_crossentropy\", optimizer=opt, metrics=[\"accuracy\"])\n",
    "\n",
    "# Train head of network\n",
    "print(\"[INFO] training head...\")\n",
    "HEAD = model.fit_generator(training_aug.flow(train_x,train_y, batch_size=BATCH_SIZE),\n",
    "                          steps_per_epoch=len(train_x) // BATCH_SIZE,\n",
    "                          validation_data=(test_x,test_y),\n",
    "                          validation_steps=len(test_x) // BATCH_SIZE,\n",
    "                          epochs=EPOCHS)"
   ]
  },
  {
   "cell_type": "code",
   "execution_count": 9,
   "metadata": {},
   "outputs": [
    {
     "name": "stdout",
     "output_type": "stream",
     "text": [
      "[INFO] Evaluating network...\n",
      "              precision    recall  f1-score   support\n",
      "\n",
      "       covid       1.00      0.80      0.89         5\n",
      "      normal       0.83      1.00      0.91         5\n",
      "\n",
      "    accuracy                           0.90        10\n",
      "   macro avg       0.92      0.90      0.90        10\n",
      "weighted avg       0.92      0.90      0.90        10\n",
      "\n"
     ]
    }
   ],
   "source": [
    "# Make predictions\n",
    "print(\"[INFO] Evaluating network...\")\n",
    "pred_idxs = model.predict(test_x, batch_size=BATCH_SIZE)\n",
    "\n",
    "# Grab prediction indices\n",
    "pred_idxs = np.argmax(pred_idxs, axis=1)\n",
    "\n",
    "# show a nicely formatted classification report\n",
    "print(classification_report(test_y.argmax(axis=1), pred_idxs,target_names=lb.classes_))"
   ]
  },
  {
   "cell_type": "code",
   "execution_count": 10,
   "metadata": {},
   "outputs": [
    {
     "name": "stdout",
     "output_type": "stream",
     "text": [
      "[[4 1]\n",
      " [0 5]]\n",
      "acc: 0.9000\n",
      "sensitivity: 0.8000\n",
      "specificity: 1.0000\n"
     ]
    }
   ],
   "source": [
    "# Create confusionconfusion_matrix_matrix_matrix_matrix_matrix_matrix_matrixnd derive accuracy, sensitivity, and specificity\n",
    "confused_matrix = confusion_matrix(test_y.argmax(axis=1), pred_idxs)\n",
    "total = sum(sum(confused_matrix))\n",
    "accuracy = (confused_matrix[0, 0] + confused_matrix[1, 1]) / total\n",
    "sensitivity = confused_matrix[0, 0] / (confused_matrix[0, 0] + confused_matrix[0, 1])\n",
    "specificity = confused_matrix[1, 1] / (confused_matrix[1, 0] + confused_matrix[1, 1])\n",
    "\n",
    "# Show confusion matrix, accuracy, sensitivity, and specificity\n",
    "print(confused_matrix)\n",
    "print(\"acc: {:.4f}\".format(accuracy))\n",
    "print(\"sensitivity: {:.4f}\".format(sensitivity))\n",
    "print(\"specificity: {:.4f}\".format(specificity))"
   ]
  },
  {
   "cell_type": "code",
   "execution_count": 11,
   "metadata": {},
   "outputs": [
    {
     "data": {
      "image/png": "[encoded data removed]",
      "text/plain": [
       "<Figure size 432x288 with 1 Axes>"
      ]
     },
     "metadata": {},
     "output_type": "display_data"
    }
   ],
   "source": [
    "%matplotlib inline\n",
    "\n",
    "# plot the training loss and accuracy\n",
    "N = EPOCHS\n",
    "plt.style.use(\"ggplot\")\n",
    "plt.figure()\n",
    "plt.plot(np.arange(0, N), HEAD.history[\"loss\"], label=\"train_loss\")\n",
    "plt.plot(np.arange(0, N), HEAD.history[\"val_loss\"], label=\"val_loss\")\n",
    "plt.plot(np.arange(0, N), HEAD.history[\"accuracy\"], label=\"train_acc\")\n",
    "plt.plot(np.arange(0, N), HEAD.history[\"val_accuracy\"], label=\"val_acc\")\n",
    "plt.title(\"Training Loss and Accuracy on COVID-19 Dataset\")\n",
    "plt.xlabel(\"Epoch #\")\n",
    "plt.ylabel(\"Loss/Accuracy\")\n",
    "plt.legend(loc=\"lower left\")\n",
    "plt.savefig(\"plots/plot\")"
   ]
  },
  {
   "cell_type": "code",
   "execution_count": 12,
   "metadata": {},
   "outputs": [
    {
     "name": "stdout",
     "output_type": "stream",
     "text": [
      "[INFO] saving COVID-19 detector model...\n"
     ]
    }
   ],
   "source": [
    "# Serialize model to disk\n",
    "print(\"[INFO] saving COVID-19 detector model...\")\n",
    "model.save(\"model/COV19.model\", save_format=\"h5\")"
   ]
  },
  {
   "cell_type": "code",
   "execution_count": 39,
   "metadata": {},
   "outputs": [
    {
     "ename": "ValueError",
     "evalue": "Error when checking input: expected input_1 to have 4 dimensions, but got array with shape (1, 2)",
     "output_type": "error",
     "traceback": [
      "\u001b[0;31m---------------------------------------------------------------------------\u001b[0m",
      "\u001b[0;31mValueError\u001b[0m                                Traceback (most recent call last)",
      "\u001b[0;32m<ipython-input-39-2519d0c26677>\u001b[0m in \u001b[0;36m<module>\u001b[0;34m\u001b[0m\n\u001b[1;32m     37\u001b[0m \u001b[0;34m\u001b[0m\u001b[0m\n\u001b[1;32m     38\u001b[0m \u001b[0;31m# Visualize predictions\u001b[0m\u001b[0;34m\u001b[0m\u001b[0;34m\u001b[0m\u001b[0;34m\u001b[0m\u001b[0m\n\u001b[0;32m---> 39\u001b[0;31m \u001b[0mvisualize_prediction\u001b[0m\u001b[0;34m(\u001b[0m\u001b[0mmodel\u001b[0m\u001b[0;34m,\u001b[0m \u001b[0;36m2\u001b[0m\u001b[0;34m)\u001b[0m\u001b[0;34m\u001b[0m\u001b[0;34m\u001b[0m\u001b[0m\n\u001b[0m",
      "\u001b[0;32m<ipython-input-39-2519d0c26677>\u001b[0m in \u001b[0;36mvisualize_prediction\u001b[0;34m(classifier, n_cases)\u001b[0m\n\u001b[1;32m     21\u001b[0m     \u001b[0;31m# Make prediction\u001b[0m\u001b[0;34m\u001b[0m\u001b[0;34m\u001b[0m\u001b[0;34m\u001b[0m\u001b[0m\n\u001b[1;32m     22\u001b[0m \u001b[0;34m\u001b[0m\u001b[0m\n\u001b[0;32m---> 23\u001b[0;31m     \u001b[0mprediction\u001b[0m \u001b[0;34m=\u001b[0m \u001b[0mclassifier\u001b[0m\u001b[0;34m.\u001b[0m\u001b[0mpredict\u001b[0m\u001b[0;34m(\u001b[0m\u001b[0mfeatures\u001b[0m\u001b[0;34m)\u001b[0m\u001b[0;34m\u001b[0m\u001b[0;34m\u001b[0m\u001b[0m\n\u001b[0m\u001b[1;32m     24\u001b[0m \u001b[0;34m\u001b[0m\u001b[0m\n\u001b[1;32m     25\u001b[0m \u001b[0;34m\u001b[0m\u001b[0m\n",
      "\u001b[0;32m~/.pyenv/versions/miniconda3-latest/envs/bd-resit/lib/python3.7/site-packages/tensorflow_core/python/keras/engine/training.py\u001b[0m in \u001b[0;36mpredict\u001b[0;34m(self, x, batch_size, verbose, steps, callbacks, max_queue_size, workers, use_multiprocessing)\u001b[0m\n\u001b[1;32m    907\u001b[0m         \u001b[0mmax_queue_size\u001b[0m\u001b[0;34m=\u001b[0m\u001b[0mmax_queue_size\u001b[0m\u001b[0;34m,\u001b[0m\u001b[0;34m\u001b[0m\u001b[0;34m\u001b[0m\u001b[0m\n\u001b[1;32m    908\u001b[0m         \u001b[0mworkers\u001b[0m\u001b[0;34m=\u001b[0m\u001b[0mworkers\u001b[0m\u001b[0;34m,\u001b[0m\u001b[0;34m\u001b[0m\u001b[0;34m\u001b[0m\u001b[0m\n\u001b[0;32m--> 909\u001b[0;31m         use_multiprocessing=use_multiprocessing)\n\u001b[0m\u001b[1;32m    910\u001b[0m \u001b[0;34m\u001b[0m\u001b[0m\n\u001b[1;32m    911\u001b[0m   \u001b[0;32mdef\u001b[0m \u001b[0mreset_metrics\u001b[0m\u001b[0;34m(\u001b[0m\u001b[0mself\u001b[0m\u001b[0;34m)\u001b[0m\u001b[0;34m:\u001b[0m\u001b[0;34m\u001b[0m\u001b[0;34m\u001b[0m\u001b[0m\n",
      "\u001b[0;32m~/.pyenv/versions/miniconda3-latest/envs/bd-resit/lib/python3.7/site-packages/tensorflow_core/python/keras/engine/training_v2.py\u001b[0m in \u001b[0;36mpredict\u001b[0;34m(self, model, x, batch_size, verbose, steps, callbacks, **kwargs)\u001b[0m\n\u001b[1;32m    460\u001b[0m     return self._model_iteration(\n\u001b[1;32m    461\u001b[0m         \u001b[0mmodel\u001b[0m\u001b[0;34m,\u001b[0m \u001b[0mModeKeys\u001b[0m\u001b[0;34m.\u001b[0m\u001b[0mPREDICT\u001b[0m\u001b[0;34m,\u001b[0m \u001b[0mx\u001b[0m\u001b[0;34m=\u001b[0m\u001b[0mx\u001b[0m\u001b[0;34m,\u001b[0m \u001b[0mbatch_size\u001b[0m\u001b[0;34m=\u001b[0m\u001b[0mbatch_size\u001b[0m\u001b[0;34m,\u001b[0m \u001b[0mverbose\u001b[0m\u001b[0;34m=\u001b[0m\u001b[0mverbose\u001b[0m\u001b[0;34m,\u001b[0m\u001b[0;34m\u001b[0m\u001b[0;34m\u001b[0m\u001b[0m\n\u001b[0;32m--> 462\u001b[0;31m         steps=steps, callbacks=callbacks, **kwargs)\n\u001b[0m\u001b[1;32m    463\u001b[0m \u001b[0;34m\u001b[0m\u001b[0m\n\u001b[1;32m    464\u001b[0m \u001b[0;34m\u001b[0m\u001b[0m\n",
      "\u001b[0;32m~/.pyenv/versions/miniconda3-latest/envs/bd-resit/lib/python3.7/site-packages/tensorflow_core/python/keras/engine/training_v2.py\u001b[0m in \u001b[0;36m_model_iteration\u001b[0;34m(self, model, mode, x, y, batch_size, verbose, sample_weight, steps, callbacks, **kwargs)\u001b[0m\n\u001b[1;32m    394\u001b[0m           \u001b[0msample_weights\u001b[0m\u001b[0;34m=\u001b[0m\u001b[0msample_weight\u001b[0m\u001b[0;34m,\u001b[0m\u001b[0;34m\u001b[0m\u001b[0;34m\u001b[0m\u001b[0m\n\u001b[1;32m    395\u001b[0m           \u001b[0msteps\u001b[0m\u001b[0;34m=\u001b[0m\u001b[0msteps\u001b[0m\u001b[0;34m,\u001b[0m\u001b[0;34m\u001b[0m\u001b[0;34m\u001b[0m\u001b[0m\n\u001b[0;32m--> 396\u001b[0;31m           distribution_strategy=strategy)\n\u001b[0m\u001b[1;32m    397\u001b[0m       \u001b[0mtotal_samples\u001b[0m \u001b[0;34m=\u001b[0m \u001b[0m_get_total_number_of_samples\u001b[0m\u001b[0;34m(\u001b[0m\u001b[0madapter\u001b[0m\u001b[0;34m)\u001b[0m\u001b[0;34m\u001b[0m\u001b[0;34m\u001b[0m\u001b[0m\n\u001b[1;32m    398\u001b[0m       \u001b[0muse_sample\u001b[0m \u001b[0;34m=\u001b[0m \u001b[0mtotal_samples\u001b[0m \u001b[0;32mis\u001b[0m \u001b[0;32mnot\u001b[0m \u001b[0;32mNone\u001b[0m\u001b[0;34m\u001b[0m\u001b[0;34m\u001b[0m\u001b[0m\n",
      "\u001b[0;32m~/.pyenv/versions/miniconda3-latest/envs/bd-resit/lib/python3.7/site-packages/tensorflow_core/python/keras/engine/training_v2.py\u001b[0m in \u001b[0;36m_process_inputs\u001b[0;34m(model, x, y, batch_size, epochs, sample_weights, class_weights, shuffle, steps, distribution_strategy, max_queue_size, workers, use_multiprocessing)\u001b[0m\n\u001b[1;32m    592\u001b[0m         \u001b[0mbatch_size\u001b[0m\u001b[0;34m=\u001b[0m\u001b[0mbatch_size\u001b[0m\u001b[0;34m,\u001b[0m\u001b[0;34m\u001b[0m\u001b[0;34m\u001b[0m\u001b[0m\n\u001b[1;32m    593\u001b[0m         \u001b[0mcheck_steps\u001b[0m\u001b[0;34m=\u001b[0m\u001b[0;32mFalse\u001b[0m\u001b[0;34m,\u001b[0m\u001b[0;34m\u001b[0m\u001b[0;34m\u001b[0m\u001b[0m\n\u001b[0;32m--> 594\u001b[0;31m         steps=steps)\n\u001b[0m\u001b[1;32m    595\u001b[0m   adapter = adapter_cls(\n\u001b[1;32m    596\u001b[0m       \u001b[0mx\u001b[0m\u001b[0;34m,\u001b[0m\u001b[0;34m\u001b[0m\u001b[0;34m\u001b[0m\u001b[0m\n",
      "\u001b[0;32m~/.pyenv/versions/miniconda3-latest/envs/bd-resit/lib/python3.7/site-packages/tensorflow_core/python/keras/engine/training.py\u001b[0m in \u001b[0;36m_standardize_user_data\u001b[0;34m(self, x, y, sample_weight, class_weight, batch_size, check_steps, steps_name, steps, validation_split, shuffle, extract_tensors_from_dataset)\u001b[0m\n\u001b[1;32m   2470\u001b[0m           \u001b[0mfeed_input_shapes\u001b[0m\u001b[0;34m,\u001b[0m\u001b[0;34m\u001b[0m\u001b[0;34m\u001b[0m\u001b[0m\n\u001b[1;32m   2471\u001b[0m           \u001b[0mcheck_batch_axis\u001b[0m\u001b[0;34m=\u001b[0m\u001b[0;32mFalse\u001b[0m\u001b[0;34m,\u001b[0m  \u001b[0;31m# Don't enforce the batch size.\u001b[0m\u001b[0;34m\u001b[0m\u001b[0;34m\u001b[0m\u001b[0m\n\u001b[0;32m-> 2472\u001b[0;31m           exception_prefix='input')\n\u001b[0m\u001b[1;32m   2473\u001b[0m \u001b[0;34m\u001b[0m\u001b[0m\n\u001b[1;32m   2474\u001b[0m     \u001b[0;31m# Get typespecs for the input data and sanitize it if necessary.\u001b[0m\u001b[0;34m\u001b[0m\u001b[0;34m\u001b[0m\u001b[0;34m\u001b[0m\u001b[0m\n",
      "\u001b[0;32m~/.pyenv/versions/miniconda3-latest/envs/bd-resit/lib/python3.7/site-packages/tensorflow_core/python/keras/engine/training_utils.py\u001b[0m in \u001b[0;36mstandardize_input_data\u001b[0;34m(data, names, shapes, check_batch_axis, exception_prefix)\u001b[0m\n\u001b[1;32m    563\u001b[0m                            \u001b[0;34m': expected '\u001b[0m \u001b[0;34m+\u001b[0m \u001b[0mnames\u001b[0m\u001b[0;34m[\u001b[0m\u001b[0mi\u001b[0m\u001b[0;34m]\u001b[0m \u001b[0;34m+\u001b[0m \u001b[0;34m' to have '\u001b[0m \u001b[0;34m+\u001b[0m\u001b[0;34m\u001b[0m\u001b[0;34m\u001b[0m\u001b[0m\n\u001b[1;32m    564\u001b[0m                            \u001b[0mstr\u001b[0m\u001b[0;34m(\u001b[0m\u001b[0mlen\u001b[0m\u001b[0;34m(\u001b[0m\u001b[0mshape\u001b[0m\u001b[0;34m)\u001b[0m\u001b[0;34m)\u001b[0m \u001b[0;34m+\u001b[0m \u001b[0;34m' dimensions, but got array '\u001b[0m\u001b[0;34m\u001b[0m\u001b[0;34m\u001b[0m\u001b[0m\n\u001b[0;32m--> 565\u001b[0;31m                            'with shape ' + str(data_shape))\n\u001b[0m\u001b[1;32m    566\u001b[0m         \u001b[0;32mif\u001b[0m \u001b[0;32mnot\u001b[0m \u001b[0mcheck_batch_axis\u001b[0m\u001b[0;34m:\u001b[0m\u001b[0;34m\u001b[0m\u001b[0;34m\u001b[0m\u001b[0m\n\u001b[1;32m    567\u001b[0m           \u001b[0mdata_shape\u001b[0m \u001b[0;34m=\u001b[0m \u001b[0mdata_shape\u001b[0m\u001b[0;34m[\u001b[0m\u001b[0;36m1\u001b[0m\u001b[0;34m:\u001b[0m\u001b[0;34m]\u001b[0m\u001b[0;34m\u001b[0m\u001b[0;34m\u001b[0m\u001b[0m\n",
      "\u001b[0;31mValueError\u001b[0m: Error when checking input: expected input_1 to have 4 dimensions, but got array with shape (1, 2)"
     ]
    }
   ],
   "source": [
    "# TODO: fix this\n",
    "import random\n",
    "def visualize_prediction(classifier, n_cases):\n",
    "\n",
    "  # Loop through images\n",
    "  for i in range(0,n_cases):\n",
    "\n",
    "    # Set path for test images\n",
    "    #path = random.choice([test_LR_dir, test_RL_dir])\n",
    "    path = 'data/val'\n",
    "\n",
    "    # Get pictures\n",
    "    random_img = random.choice(os.listdir(path))\n",
    "    img_path = os.path.join(path, random_img)\n",
    "    img = image.load_img(img_path, target_size=(224, 224))\n",
    "    img_tensor = image.img_to_array(img)    # Image data encoded as integers in the 0-255 range\n",
    "    img_tensor /= 255.                      # Normalize to [0,1] for matplotlib application\n",
    "\n",
    "    # Extract feature\n",
    "    features = model.predict(img_tensor.reshape(1, 224, 224, 3))\n",
    "\n",
    "    # Make prediction\n",
    "\n",
    "    prediction = classifier.predict(features)\n",
    "\n",
    "\n",
    "    # Show image with prediction\n",
    "    plt.title(random_img)\n",
    "    plt.imshow(img_tensor)\n",
    "    plt.show()\n",
    "\n",
    "    # Write prediction\n",
    "    if prediction < 0.5:\n",
    "        print('Co')\n",
    "    else:\n",
    "        print('No')\n",
    "\n",
    "\n",
    "# Visualize predictions\n",
    "visualize_prediction(model, 2)"
   ]
  },
  {
   "cell_type": "code",
   "execution_count": null,
   "metadata": {},
   "outputs": [],
   "source": []
  },
  {
   "cell_type": "code",
   "execution_count": null,
   "metadata": {},
   "outputs": [],
   "source": []
  }
 ],
 "metadata": {
  "kernelspec": {
   "display_name": "Python 3",
   "language": "python",
   "name": "python3"
  },
  "language_info": {
   "codemirror_mode": {
    "name": "ipython",
    "version": 3
   },
   "file_extension": ".py",
   "mimetype": "text/x-python",
   "name": "python",
   "nbconvert_exporter": "python",
   "pygments_lexer": "ipython3",
   "version": "3.7.7"
  }
 },
 "nbformat": 4,
 "nbformat_minor": 4
}